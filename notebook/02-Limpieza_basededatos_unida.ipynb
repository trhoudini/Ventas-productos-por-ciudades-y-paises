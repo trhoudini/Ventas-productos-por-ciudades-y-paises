{
 "cells": [
  {
   "cell_type": "markdown",
   "id": "f9fa78d6",
   "metadata": {},
   "source": [
    "## Limpieza de la base de datos unida"
   ]
  },
  {
   "cell_type": "markdown",
   "id": "ccad7fa3",
   "metadata": {},
   "source": [
    "### Importamos librerías"
   ]
  },
  {
   "cell_type": "code",
   "execution_count": 1,
   "id": "63c659a7",
   "metadata": {},
   "outputs": [],
   "source": [
    "import os\n",
    "import pandas as pd\n",
    "import numpy as np"
   ]
  },
  {
   "cell_type": "markdown",
   "id": "ed6faea3",
   "metadata": {},
   "source": [
    "### Cargamos el CSV unido"
   ]
  },
  {
   "cell_type": "code",
   "execution_count": 4,
   "id": "977107f5",
   "metadata": {},
   "outputs": [],
   "source": [
    "df = pd.read_csv(\"../data/raw/basededatos_unida.csv\")"
   ]
  },
  {
   "cell_type": "markdown",
   "id": "75f9cd1d",
   "metadata": {},
   "source": [
    "### Vemos las filas y columnas que tiene la base de datos"
   ]
  },
  {
   "cell_type": "code",
   "execution_count": 5,
   "id": "32bcd197",
   "metadata": {},
   "outputs": [
    {
     "name": "stdout",
     "output_type": "stream",
     "text": [
      "Filas y columnas: (51290, 28)\n"
     ]
    }
   ],
   "source": [
    "print(\"Filas y columnas:\", df.shape)"
   ]
  },
  {
   "cell_type": "markdown",
   "id": "2b1f6967",
   "metadata": {},
   "source": [
    "### Vemos las 5 primeras filas"
   ]
  },
  {
   "cell_type": "code",
   "execution_count": 6,
   "id": "01691051",
   "metadata": {},
   "outputs": [
    {
     "data": {
      "text/html": [
       "<div>\n",
       "<style scoped>\n",
       "    .dataframe tbody tr th:only-of-type {\n",
       "        vertical-align: middle;\n",
       "    }\n",
       "\n",
       "    .dataframe tbody tr th {\n",
       "        vertical-align: top;\n",
       "    }\n",
       "\n",
       "    .dataframe thead th {\n",
       "        text-align: right;\n",
       "    }\n",
       "</style>\n",
       "<table border=\"1\" class=\"dataframe\">\n",
       "  <thead>\n",
       "    <tr style=\"text-align: right;\">\n",
       "      <th></th>\n",
       "      <th>order_id</th>\n",
       "      <th>order_date</th>\n",
       "      <th>ship_date</th>\n",
       "      <th>ship_mode</th>\n",
       "      <th>customer_name</th>\n",
       "      <th>segment</th>\n",
       "      <th>state</th>\n",
       "      <th>country</th>\n",
       "      <th>market</th>\n",
       "      <th>region</th>\n",
       "      <th>...</th>\n",
       "      <th>shipping_cost</th>\n",
       "      <th>order_priority</th>\n",
       "      <th>year</th>\n",
       "      <th>admin_name</th>\n",
       "      <th>latitud</th>\n",
       "      <th>longitud</th>\n",
       "      <th>poblacion</th>\n",
       "      <th>latitud_pais</th>\n",
       "      <th>longitud_pais</th>\n",
       "      <th>poblacion_pais</th>\n",
       "    </tr>\n",
       "  </thead>\n",
       "  <tbody>\n",
       "    <tr>\n",
       "      <th>0</th>\n",
       "      <td>AG-2011-2040</td>\n",
       "      <td>1/1/2011</td>\n",
       "      <td>6/1/2011</td>\n",
       "      <td>Standard Class</td>\n",
       "      <td>Toby Braunhardt</td>\n",
       "      <td>Consumer</td>\n",
       "      <td>constantine</td>\n",
       "      <td>algeria</td>\n",
       "      <td>Africa</td>\n",
       "      <td>Africa</td>\n",
       "      <td>...</td>\n",
       "      <td>35.46</td>\n",
       "      <td>Medium</td>\n",
       "      <td>2011</td>\n",
       "      <td>constantine</td>\n",
       "      <td>36.355089</td>\n",
       "      <td>6.664344</td>\n",
       "      <td>878977.0</td>\n",
       "      <td>35.350107</td>\n",
       "      <td>3.373394</td>\n",
       "      <td>23955403.0</td>\n",
       "    </tr>\n",
       "    <tr>\n",
       "      <th>1</th>\n",
       "      <td>IN-2011-47883</td>\n",
       "      <td>1/1/2011</td>\n",
       "      <td>8/1/2011</td>\n",
       "      <td>Standard Class</td>\n",
       "      <td>Joseph Holt</td>\n",
       "      <td>Consumer</td>\n",
       "      <td>new south wales</td>\n",
       "      <td>australia</td>\n",
       "      <td>APAC</td>\n",
       "      <td>Oceania</td>\n",
       "      <td>...</td>\n",
       "      <td>9.72</td>\n",
       "      <td>Medium</td>\n",
       "      <td>2011</td>\n",
       "      <td>new south wales</td>\n",
       "      <td>-32.646250</td>\n",
       "      <td>150.196007</td>\n",
       "      <td>6379411.0</td>\n",
       "      <td>-30.431731</td>\n",
       "      <td>141.908912</td>\n",
       "      <td>22841412.0</td>\n",
       "    </tr>\n",
       "    <tr>\n",
       "      <th>2</th>\n",
       "      <td>HU-2011-1220</td>\n",
       "      <td>1/1/2011</td>\n",
       "      <td>5/1/2011</td>\n",
       "      <td>Second Class</td>\n",
       "      <td>Annie Thurman</td>\n",
       "      <td>Consumer</td>\n",
       "      <td>budapest</td>\n",
       "      <td>hungary</td>\n",
       "      <td>EMEA</td>\n",
       "      <td>EMEA</td>\n",
       "      <td>...</td>\n",
       "      <td>8.17</td>\n",
       "      <td>High</td>\n",
       "      <td>2011</td>\n",
       "      <td>budapest</td>\n",
       "      <td>47.498300</td>\n",
       "      <td>19.040800</td>\n",
       "      <td>1686222.0</td>\n",
       "      <td>47.270053</td>\n",
       "      <td>19.376444</td>\n",
       "      <td>6062404.0</td>\n",
       "    </tr>\n",
       "    <tr>\n",
       "      <th>3</th>\n",
       "      <td>IT-2011-3647632</td>\n",
       "      <td>1/1/2011</td>\n",
       "      <td>5/1/2011</td>\n",
       "      <td>Second Class</td>\n",
       "      <td>Eugene Moren</td>\n",
       "      <td>Home Office</td>\n",
       "      <td>stockholm</td>\n",
       "      <td>sweden</td>\n",
       "      <td>EU</td>\n",
       "      <td>North</td>\n",
       "      <td>...</td>\n",
       "      <td>4.82</td>\n",
       "      <td>High</td>\n",
       "      <td>2011</td>\n",
       "      <td>stockholm</td>\n",
       "      <td>59.376200</td>\n",
       "      <td>18.033443</td>\n",
       "      <td>1652923.0</td>\n",
       "      <td>58.789093</td>\n",
       "      <td>15.343301</td>\n",
       "      <td>6588345.0</td>\n",
       "    </tr>\n",
       "    <tr>\n",
       "      <th>4</th>\n",
       "      <td>IN-2011-47883</td>\n",
       "      <td>1/1/2011</td>\n",
       "      <td>8/1/2011</td>\n",
       "      <td>Standard Class</td>\n",
       "      <td>Joseph Holt</td>\n",
       "      <td>Consumer</td>\n",
       "      <td>new south wales</td>\n",
       "      <td>australia</td>\n",
       "      <td>APAC</td>\n",
       "      <td>Oceania</td>\n",
       "      <td>...</td>\n",
       "      <td>4.70</td>\n",
       "      <td>Medium</td>\n",
       "      <td>2011</td>\n",
       "      <td>new south wales</td>\n",
       "      <td>-32.646250</td>\n",
       "      <td>150.196007</td>\n",
       "      <td>6379411.0</td>\n",
       "      <td>-30.431731</td>\n",
       "      <td>141.908912</td>\n",
       "      <td>22841412.0</td>\n",
       "    </tr>\n",
       "  </tbody>\n",
       "</table>\n",
       "<p>5 rows × 28 columns</p>\n",
       "</div>"
      ],
      "text/plain": [
       "          order_id order_date ship_date       ship_mode    customer_name  \\\n",
       "0     AG-2011-2040   1/1/2011  6/1/2011  Standard Class  Toby Braunhardt   \n",
       "1    IN-2011-47883   1/1/2011  8/1/2011  Standard Class      Joseph Holt   \n",
       "2     HU-2011-1220   1/1/2011  5/1/2011    Second Class    Annie Thurman   \n",
       "3  IT-2011-3647632   1/1/2011  5/1/2011    Second Class     Eugene Moren   \n",
       "4    IN-2011-47883   1/1/2011  8/1/2011  Standard Class      Joseph Holt   \n",
       "\n",
       "       segment            state    country  market   region  ...  \\\n",
       "0     Consumer      constantine    algeria  Africa   Africa  ...   \n",
       "1     Consumer  new south wales  australia    APAC  Oceania  ...   \n",
       "2     Consumer         budapest    hungary    EMEA     EMEA  ...   \n",
       "3  Home Office        stockholm     sweden      EU    North  ...   \n",
       "4     Consumer  new south wales  australia    APAC  Oceania  ...   \n",
       "\n",
       "  shipping_cost order_priority  year       admin_name    latitud    longitud  \\\n",
       "0         35.46         Medium  2011      constantine  36.355089    6.664344   \n",
       "1          9.72         Medium  2011  new south wales -32.646250  150.196007   \n",
       "2          8.17           High  2011         budapest  47.498300   19.040800   \n",
       "3          4.82           High  2011        stockholm  59.376200   18.033443   \n",
       "4          4.70         Medium  2011  new south wales -32.646250  150.196007   \n",
       "\n",
       "   poblacion  latitud_pais  longitud_pais poblacion_pais  \n",
       "0   878977.0     35.350107       3.373394     23955403.0  \n",
       "1  6379411.0    -30.431731     141.908912     22841412.0  \n",
       "2  1686222.0     47.270053      19.376444      6062404.0  \n",
       "3  1652923.0     58.789093      15.343301      6588345.0  \n",
       "4  6379411.0    -30.431731     141.908912     22841412.0  \n",
       "\n",
       "[5 rows x 28 columns]"
      ]
     },
     "execution_count": 6,
     "metadata": {},
     "output_type": "execute_result"
    }
   ],
   "source": [
    "df.head()"
   ]
  },
  {
   "cell_type": "markdown",
   "id": "cddad329",
   "metadata": {},
   "source": [
    "### Miramos los datos que tenemos"
   ]
  },
  {
   "cell_type": "code",
   "execution_count": 7,
   "id": "a3c60a92",
   "metadata": {},
   "outputs": [
    {
     "name": "stdout",
     "output_type": "stream",
     "text": [
      "<class 'pandas.core.frame.DataFrame'>\n",
      "RangeIndex: 51290 entries, 0 to 51289\n",
      "Data columns (total 28 columns):\n",
      " #   Column          Non-Null Count  Dtype  \n",
      "---  ------          --------------  -----  \n",
      " 0   order_id        51290 non-null  object \n",
      " 1   order_date      51290 non-null  object \n",
      " 2   ship_date       51290 non-null  object \n",
      " 3   ship_mode       51290 non-null  object \n",
      " 4   customer_name   51290 non-null  object \n",
      " 5   segment         51290 non-null  object \n",
      " 6   state           51290 non-null  object \n",
      " 7   country         51290 non-null  object \n",
      " 8   market          51290 non-null  object \n",
      " 9   region          51290 non-null  object \n",
      " 10  product_id      51290 non-null  object \n",
      " 11  category        51290 non-null  object \n",
      " 12  sub_category    51290 non-null  object \n",
      " 13  product_name    51290 non-null  object \n",
      " 14  sales           51290 non-null  object \n",
      " 15  quantity        51290 non-null  int64  \n",
      " 16  discount        51290 non-null  float64\n",
      " 17  profit          51290 non-null  float64\n",
      " 18  shipping_cost   51290 non-null  float64\n",
      " 19  order_priority  51290 non-null  object \n",
      " 20  year            51290 non-null  int64  \n",
      " 21  admin_name      40299 non-null  object \n",
      " 22  latitud         50411 non-null  float64\n",
      " 23  longitud        50411 non-null  float64\n",
      " 24  poblacion       50411 non-null  float64\n",
      " 25  latitud_pais    50411 non-null  float64\n",
      " 26  longitud_pais   50411 non-null  float64\n",
      " 27  poblacion_pais  50411 non-null  float64\n",
      "dtypes: float64(9), int64(2), object(17)\n",
      "memory usage: 11.0+ MB\n"
     ]
    }
   ],
   "source": [
    "df.info()"
   ]
  },
  {
   "cell_type": "markdown",
   "id": "e4d8ff21",
   "metadata": {},
   "source": [
    "### Como vemos que hay columnas de fechas como object, hay que convertirlas a tipo fecha"
   ]
  },
  {
   "cell_type": "code",
   "execution_count": 8,
   "id": "be9c030f",
   "metadata": {},
   "outputs": [],
   "source": [
    "df[\"order_date\"] = pd.to_datetime(df[\"order_date\"], errors=\"coerce\")\n",
    "df[\"ship_date\"] = pd.to_datetime(df[\"ship_date\"], errors=\"coerce\")"
   ]
  },
  {
   "cell_type": "markdown",
   "id": "4dd7424c",
   "metadata": {},
   "source": [
    "### Para asegurarnos de que las columnas numéricas sean números hacemos los siguiente:"
   ]
  },
  {
   "cell_type": "code",
   "execution_count": 11,
   "id": "8dd717be",
   "metadata": {},
   "outputs": [],
   "source": [
    "numericas = [\n",
    "    \"sales\", \"quantity\", \"discount\", \"profit\", \"shipping_cost\",\n",
    "    \"year\", \"latitud\", \"longitud\", \"poblacion\",\n",
    "    \"latitud_pais\", \"longitud_pais\", \"poblacion_pais\"\n",
    "]\n",
    "for col in numericas:\n",
    "    if col in df.columns:\n",
    "        df[col] = pd.to_numeric(df[col], errors=\"coerce\")"
   ]
  },
  {
   "cell_type": "markdown",
   "id": "09d7dc49",
   "metadata": {},
   "source": [
    "### Verificación que son numéricas"
   ]
  },
  {
   "cell_type": "code",
   "execution_count": 12,
   "id": "6029c740",
   "metadata": {},
   "outputs": [
    {
     "data": {
      "text/plain": [
       "sales             float64\n",
       "quantity            int64\n",
       "discount          float64\n",
       "profit            float64\n",
       "shipping_cost     float64\n",
       "year                int64\n",
       "latitud           float64\n",
       "longitud          float64\n",
       "poblacion         float64\n",
       "latitud_pais      float64\n",
       "longitud_pais     float64\n",
       "poblacion_pais    float64\n",
       "dtype: object"
      ]
     },
     "execution_count": 12,
     "metadata": {},
     "output_type": "execute_result"
    }
   ],
   "source": [
    "df[numericas].dtypes"
   ]
  },
  {
   "cell_type": "code",
   "execution_count": 13,
   "id": "8a920a37",
   "metadata": {},
   "outputs": [
    {
     "data": {
      "text/html": [
       "<div>\n",
       "<style scoped>\n",
       "    .dataframe tbody tr th:only-of-type {\n",
       "        vertical-align: middle;\n",
       "    }\n",
       "\n",
       "    .dataframe tbody tr th {\n",
       "        vertical-align: top;\n",
       "    }\n",
       "\n",
       "    .dataframe thead th {\n",
       "        text-align: right;\n",
       "    }\n",
       "</style>\n",
       "<table border=\"1\" class=\"dataframe\">\n",
       "  <thead>\n",
       "    <tr style=\"text-align: right;\">\n",
       "      <th></th>\n",
       "      <th>sales</th>\n",
       "      <th>quantity</th>\n",
       "      <th>discount</th>\n",
       "      <th>profit</th>\n",
       "      <th>shipping_cost</th>\n",
       "      <th>year</th>\n",
       "      <th>latitud</th>\n",
       "      <th>longitud</th>\n",
       "      <th>poblacion</th>\n",
       "      <th>latitud_pais</th>\n",
       "      <th>longitud_pais</th>\n",
       "      <th>poblacion_pais</th>\n",
       "    </tr>\n",
       "  </thead>\n",
       "  <tbody>\n",
       "    <tr>\n",
       "      <th>count</th>\n",
       "      <td>48660.000000</td>\n",
       "      <td>51290.000000</td>\n",
       "      <td>51290.000000</td>\n",
       "      <td>51290.000000</td>\n",
       "      <td>51290.000000</td>\n",
       "      <td>51290.000000</td>\n",
       "      <td>50411.000000</td>\n",
       "      <td>50411.000000</td>\n",
       "      <td>5.041100e+04</td>\n",
       "      <td>50411.000000</td>\n",
       "      <td>50411.000000</td>\n",
       "      <td>5.041100e+04</td>\n",
       "    </tr>\n",
       "    <tr>\n",
       "      <th>mean</th>\n",
       "      <td>161.017838</td>\n",
       "      <td>3.476545</td>\n",
       "      <td>0.142908</td>\n",
       "      <td>28.641740</td>\n",
       "      <td>26.375915</td>\n",
       "      <td>2012.777208</td>\n",
       "      <td>24.218176</td>\n",
       "      <td>-4.454643</td>\n",
       "      <td>2.274745e+07</td>\n",
       "      <td>24.132287</td>\n",
       "      <td>-3.635975</td>\n",
       "      <td>1.818466e+08</td>\n",
       "    </tr>\n",
       "    <tr>\n",
       "      <th>std</th>\n",
       "      <td>201.092519</td>\n",
       "      <td>2.278766</td>\n",
       "      <td>0.212280</td>\n",
       "      <td>174.424113</td>\n",
       "      <td>57.296804</td>\n",
       "      <td>1.098931</td>\n",
       "      <td>25.173028</td>\n",
       "      <td>81.210149</td>\n",
       "      <td>3.663918e+07</td>\n",
       "      <td>24.693916</td>\n",
       "      <td>79.373108</td>\n",
       "      <td>2.767730e+08</td>\n",
       "    </tr>\n",
       "    <tr>\n",
       "      <th>min</th>\n",
       "      <td>0.000000</td>\n",
       "      <td>1.000000</td>\n",
       "      <td>0.000000</td>\n",
       "      <td>-6599.978000</td>\n",
       "      <td>0.000000</td>\n",
       "      <td>2011.000000</td>\n",
       "      <td>-46.233750</td>\n",
       "      <td>-122.538006</td>\n",
       "      <td>0.000000e+00</td>\n",
       "      <td>-40.629119</td>\n",
       "      <td>-99.328809</td>\n",
       "      <td>1.100000e+05</td>\n",
       "    </tr>\n",
       "    <tr>\n",
       "      <th>25%</th>\n",
       "      <td>29.000000</td>\n",
       "      <td>2.000000</td>\n",
       "      <td>0.000000</td>\n",
       "      <td>0.000000</td>\n",
       "      <td>2.610000</td>\n",
       "      <td>2012.000000</td>\n",
       "      <td>12.645800</td>\n",
       "      <td>-81.720934</td>\n",
       "      <td>2.894436e+06</td>\n",
       "      <td>13.631814</td>\n",
       "      <td>-90.212717</td>\n",
       "      <td>2.284141e+07</td>\n",
       "    </tr>\n",
       "    <tr>\n",
       "      <th>50%</th>\n",
       "      <td>77.000000</td>\n",
       "      <td>3.000000</td>\n",
       "      <td>0.000000</td>\n",
       "      <td>9.240000</td>\n",
       "      <td>7.790000</td>\n",
       "      <td>2013.000000</td>\n",
       "      <td>31.756323</td>\n",
       "      <td>2.352214</td>\n",
       "      <td>9.358852e+06</td>\n",
       "      <td>33.587260</td>\n",
       "      <td>2.669519</td>\n",
       "      <td>6.499149e+07</td>\n",
       "    </tr>\n",
       "    <tr>\n",
       "      <th>75%</th>\n",
       "      <td>208.000000</td>\n",
       "      <td>5.000000</td>\n",
       "      <td>0.200000</td>\n",
       "      <td>36.810000</td>\n",
       "      <td>24.450000</td>\n",
       "      <td>2014.000000</td>\n",
       "      <td>42.208200</td>\n",
       "      <td>44.313520</td>\n",
       "      <td>3.221790e+07</td>\n",
       "      <td>39.063398</td>\n",
       "      <td>43.734588</td>\n",
       "      <td>3.794267e+08</td>\n",
       "    </tr>\n",
       "    <tr>\n",
       "      <th>max</th>\n",
       "      <td>999.000000</td>\n",
       "      <td>14.000000</td>\n",
       "      <td>0.850000</td>\n",
       "      <td>8399.976000</td>\n",
       "      <td>933.570000</td>\n",
       "      <td>2014.000000</td>\n",
       "      <td>62.044651</td>\n",
       "      <td>178.017800</td>\n",
       "      <td>1.360846e+09</td>\n",
       "      <td>62.044651</td>\n",
       "      <td>167.738859</td>\n",
       "      <td>1.360846e+09</td>\n",
       "    </tr>\n",
       "  </tbody>\n",
       "</table>\n",
       "</div>"
      ],
      "text/plain": [
       "              sales      quantity      discount        profit  shipping_cost  \\\n",
       "count  48660.000000  51290.000000  51290.000000  51290.000000   51290.000000   \n",
       "mean     161.017838      3.476545      0.142908     28.641740      26.375915   \n",
       "std      201.092519      2.278766      0.212280    174.424113      57.296804   \n",
       "min        0.000000      1.000000      0.000000  -6599.978000       0.000000   \n",
       "25%       29.000000      2.000000      0.000000      0.000000       2.610000   \n",
       "50%       77.000000      3.000000      0.000000      9.240000       7.790000   \n",
       "75%      208.000000      5.000000      0.200000     36.810000      24.450000   \n",
       "max      999.000000     14.000000      0.850000   8399.976000     933.570000   \n",
       "\n",
       "               year       latitud      longitud     poblacion  latitud_pais  \\\n",
       "count  51290.000000  50411.000000  50411.000000  5.041100e+04  50411.000000   \n",
       "mean    2012.777208     24.218176     -4.454643  2.274745e+07     24.132287   \n",
       "std        1.098931     25.173028     81.210149  3.663918e+07     24.693916   \n",
       "min     2011.000000    -46.233750   -122.538006  0.000000e+00    -40.629119   \n",
       "25%     2012.000000     12.645800    -81.720934  2.894436e+06     13.631814   \n",
       "50%     2013.000000     31.756323      2.352214  9.358852e+06     33.587260   \n",
       "75%     2014.000000     42.208200     44.313520  3.221790e+07     39.063398   \n",
       "max     2014.000000     62.044651    178.017800  1.360846e+09     62.044651   \n",
       "\n",
       "       longitud_pais  poblacion_pais  \n",
       "count   50411.000000    5.041100e+04  \n",
       "mean       -3.635975    1.818466e+08  \n",
       "std        79.373108    2.767730e+08  \n",
       "min       -99.328809    1.100000e+05  \n",
       "25%       -90.212717    2.284141e+07  \n",
       "50%         2.669519    6.499149e+07  \n",
       "75%        43.734588    3.794267e+08  \n",
       "max       167.738859    1.360846e+09  "
      ]
     },
     "execution_count": 13,
     "metadata": {},
     "output_type": "execute_result"
    }
   ],
   "source": [
    "df[numericas].describe()"
   ]
  },
  {
   "cell_type": "markdown",
   "id": "3512e79c",
   "metadata": {},
   "source": [
    "### Revisamos los valores nulos (vacíos)"
   ]
  },
  {
   "cell_type": "code",
   "execution_count": 14,
   "id": "8008e9dc",
   "metadata": {},
   "outputs": [
    {
     "data": {
      "text/plain": [
       "order_id              0\n",
       "order_date        31223\n",
       "ship_date         31456\n",
       "ship_mode             0\n",
       "customer_name         0\n",
       "segment               0\n",
       "state                 0\n",
       "country               0\n",
       "market                0\n",
       "region                0\n",
       "product_id            0\n",
       "category              0\n",
       "sub_category          0\n",
       "product_name          0\n",
       "sales              2630\n",
       "quantity              0\n",
       "discount              0\n",
       "profit                0\n",
       "shipping_cost         0\n",
       "order_priority        0\n",
       "year                  0\n",
       "admin_name        10991\n",
       "latitud             879\n",
       "longitud            879\n",
       "poblacion           879\n",
       "latitud_pais        879\n",
       "longitud_pais       879\n",
       "poblacion_pais      879\n",
       "dtype: int64"
      ]
     },
     "execution_count": 14,
     "metadata": {},
     "output_type": "execute_result"
    }
   ],
   "source": [
    "df.isnull().sum()"
   ]
  },
  {
   "cell_type": "markdown",
   "id": "80dc3e93",
   "metadata": {},
   "source": [
    "### Solución valores nulos"
   ]
  },
  {
   "cell_type": "markdown",
   "id": "99754fa8",
   "metadata": {},
   "source": [
    "- Order_Date y ship_date\n",
    "\n",
    "Más de 30.000 filas tienen las fechas vacías. No voy a borrar nada para poder analizar las fechas que tengo."
   ]
  },
  {
   "cell_type": "markdown",
   "id": "2ecd824f",
   "metadata": {},
   "source": [
    "- Sales\n",
    "\n",
    "2.630 filas sin valor de venta. Como no son muchas lo dejamos nulos o lo rellenamos con 0 que es lo que voy a hacer."
   ]
  },
  {
   "cell_type": "code",
   "execution_count": 15,
   "id": "92079786",
   "metadata": {},
   "outputs": [],
   "source": [
    "df[\"sales\"] = df[\"sales\"].fillna(0)"
   ]
  },
  {
   "cell_type": "markdown",
   "id": "188f9bdf",
   "metadata": {},
   "source": [
    "- Admin_name\n",
    "\n",
    "10.991 valores nulos. No borro esas filas y voy a rellenar con el valor del país."
   ]
  },
  {
   "cell_type": "code",
   "execution_count": 16,
   "id": "2b9f398d",
   "metadata": {},
   "outputs": [],
   "source": [
    "df[\"admin_name\"] = df[\"admin_name\"].fillna(df[\"country\"])"
   ]
  },
  {
   "cell_type": "markdown",
   "id": "120c3c18",
   "metadata": {},
   "source": [
    "- Latitud, logitud, población, latitud_pais, longitud_pais y poblacion_pais\n",
    "\n",
    "879 valores nulos hay de cada columna. La solución es rellenar los nulos de estado con los del país. En el caso de que falten los del país, se deja vacío."
   ]
  },
  {
   "cell_type": "code",
   "execution_count": 17,
   "id": "0f5b3a1b",
   "metadata": {},
   "outputs": [],
   "source": [
    "df[\"latitud\"] = df[\"latitud\"].fillna(df[\"latitud_pais\"])\n",
    "df[\"longitud\"] = df[\"longitud\"].fillna(df[\"longitud_pais\"])\n",
    "df[\"poblacion\"] = df[\"poblacion\"].fillna(df[\"poblacion_pais\"])"
   ]
  },
  {
   "cell_type": "code",
   "execution_count": 18,
   "id": "bf1360bd",
   "metadata": {},
   "outputs": [],
   "source": [
    "df = df.drop(columns=[\"latitud_pais\",\"longitud_pais\",\"poblacion_pais\"])"
   ]
  },
  {
   "cell_type": "markdown",
   "id": "2300266c",
   "metadata": {},
   "source": [
    "#### Verificamos"
   ]
  },
  {
   "cell_type": "code",
   "execution_count": 19,
   "id": "9052dd0b",
   "metadata": {},
   "outputs": [
    {
     "data": {
      "text/plain": [
       "order_id              0\n",
       "order_date        31223\n",
       "ship_date         31456\n",
       "ship_mode             0\n",
       "customer_name         0\n",
       "segment               0\n",
       "state                 0\n",
       "country               0\n",
       "market                0\n",
       "region                0\n",
       "product_id            0\n",
       "category              0\n",
       "sub_category          0\n",
       "product_name          0\n",
       "sales                 0\n",
       "quantity              0\n",
       "discount              0\n",
       "profit                0\n",
       "shipping_cost         0\n",
       "order_priority        0\n",
       "year                  0\n",
       "admin_name            0\n",
       "latitud             879\n",
       "longitud            879\n",
       "poblacion           879\n",
       "dtype: int64"
      ]
     },
     "execution_count": 19,
     "metadata": {},
     "output_type": "execute_result"
    }
   ],
   "source": [
    "df.isnull().sum()"
   ]
  },
  {
   "cell_type": "markdown",
   "id": "8942eb56",
   "metadata": {},
   "source": [
    "Los nulos que quedan de latitud, longitud y poblacion los vamos a rellenar con el promedio general"
   ]
  },
  {
   "cell_type": "code",
   "execution_count": 20,
   "id": "15bb9129",
   "metadata": {},
   "outputs": [],
   "source": [
    "df[\"latitud\"] = df[\"latitud\"].fillna(df[\"latitud\"].mean())\n",
    "df[\"longitud\"] = df[\"longitud\"].fillna(df[\"longitud\"].mean())\n",
    "df[\"poblacion\"] = df[\"poblacion\"].fillna(df[\"poblacion\"].mean())"
   ]
  },
  {
   "cell_type": "markdown",
   "id": "f6bd142c",
   "metadata": {},
   "source": [
    "#### Volvemos a verificar"
   ]
  },
  {
   "cell_type": "code",
   "execution_count": 21,
   "id": "374f53a7",
   "metadata": {},
   "outputs": [
    {
     "data": {
      "text/plain": [
       "order_id              0\n",
       "order_date        31223\n",
       "ship_date         31456\n",
       "ship_mode             0\n",
       "customer_name         0\n",
       "segment               0\n",
       "state                 0\n",
       "country               0\n",
       "market                0\n",
       "region                0\n",
       "product_id            0\n",
       "category              0\n",
       "sub_category          0\n",
       "product_name          0\n",
       "sales                 0\n",
       "quantity              0\n",
       "discount              0\n",
       "profit                0\n",
       "shipping_cost         0\n",
       "order_priority        0\n",
       "year                  0\n",
       "admin_name            0\n",
       "latitud               0\n",
       "longitud              0\n",
       "poblacion             0\n",
       "dtype: int64"
      ]
     },
     "execution_count": 21,
     "metadata": {},
     "output_type": "execute_result"
    }
   ],
   "source": [
    "df.isnull().sum()"
   ]
  },
  {
   "cell_type": "markdown",
   "id": "c57e73af",
   "metadata": {},
   "source": [
    "Ya tendríamos resuelto el tema de los valores nulos."
   ]
  },
  {
   "cell_type": "markdown",
   "id": "7643dbc4",
   "metadata": {},
   "source": [
    "### Eliminamos duplicados"
   ]
  },
  {
   "cell_type": "code",
   "execution_count": 22,
   "id": "daecc8c6",
   "metadata": {},
   "outputs": [
    {
     "name": "stdout",
     "output_type": "stream",
     "text": [
      "Duplicados: 0\n"
     ]
    }
   ],
   "source": [
    "print(\"Duplicados:\", df.duplicated().sum())"
   ]
  },
  {
   "cell_type": "markdown",
   "id": "84261c79",
   "metadata": {},
   "source": [
    "Hay 0 duplicados, lo cual garantiza que vamos a usar una base de datos lista para su análisis."
   ]
  },
  {
   "cell_type": "markdown",
   "id": "70f40235",
   "metadata": {},
   "source": [
    "### Revisamos los errores fuera de rango"
   ]
  },
  {
   "cell_type": "markdown",
   "id": "aa4cbd3b",
   "metadata": {},
   "source": [
    "El descuento (discount) siempre debe de estar entre 0 y 1."
   ]
  },
  {
   "cell_type": "code",
   "execution_count": 25,
   "id": "c417ce6c",
   "metadata": {},
   "outputs": [],
   "source": [
    "df.loc[df[\"discount\"] < 0, \"discount\"] = 0\n",
    "df.loc[df[\"discount\"] > 1, \"discount\"] = 1"
   ]
  },
  {
   "cell_type": "markdown",
   "id": "687e9bb6",
   "metadata": {},
   "source": [
    "Y el coste de envío (shipping_cost) no debe de ser negativo."
   ]
  },
  {
   "cell_type": "code",
   "execution_count": 26,
   "id": "d6896134",
   "metadata": {},
   "outputs": [],
   "source": [
    "df.loc[df[\"shipping_cost\"] < 0, \"shipping_cost\"] = 0"
   ]
  },
  {
   "cell_type": "markdown",
   "id": "c56648f0",
   "metadata": {},
   "source": [
    "Ya habríamos acabado con la fase de limpieza ya que ya no hay columnas duplicadas, las fechas tienen el formato correcto, y hemos resuelto del problema de los valores nulos."
   ]
  },
  {
   "cell_type": "markdown",
   "id": "d1498cf5",
   "metadata": {},
   "source": [
    "### Finalmente guardamos de nuevo el CSV limpio"
   ]
  },
  {
   "cell_type": "code",
   "execution_count": 27,
   "id": "54246c26",
   "metadata": {},
   "outputs": [
    {
     "name": "stdout",
     "output_type": "stream",
     "text": [
      "Archivo limpio guardado correctamente.\n"
     ]
    }
   ],
   "source": [
    "df.to_csv(\"../data/output/basededatos_limpia.csv\", index=False)\n",
    "print(\"Archivo limpio guardado correctamente.\")"
   ]
  }
 ],
 "metadata": {
  "kernelspec": {
   "display_name": "Python 3",
   "language": "python",
   "name": "python3"
  },
  "language_info": {
   "codemirror_mode": {
    "name": "ipython",
    "version": 3
   },
   "file_extension": ".py",
   "mimetype": "text/x-python",
   "name": "python",
   "nbconvert_exporter": "python",
   "pygments_lexer": "ipython3",
   "version": "3.13.3"
  }
 },
 "nbformat": 4,
 "nbformat_minor": 5
}
