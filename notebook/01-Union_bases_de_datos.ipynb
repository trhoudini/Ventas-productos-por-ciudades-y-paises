{
 "cells": [
  {
   "cell_type": "markdown",
   "id": "4e48652b",
   "metadata": {},
   "source": [
    "## Unión de las dos bases de datos"
   ]
  },
  {
   "cell_type": "markdown",
   "id": "06d5f5b3",
   "metadata": {},
   "source": [
    "### Instalación requirements"
   ]
  },
  {
   "cell_type": "code",
   "execution_count": 2,
   "id": "7836c45f",
   "metadata": {},
   "outputs": [
    {
     "name": "stdout",
     "output_type": "stream",
     "text": [
      "Requirement already satisfied: pandas in c:\\users\\troya\\appdata\\local\\programs\\python\\python313\\lib\\site-packages (2.2.3)\n",
      "Requirement already satisfied: openpyxl in c:\\users\\troya\\appdata\\local\\programs\\python\\python313\\lib\\site-packages (3.1.5)\n",
      "Requirement already satisfied: xlsxwriter in c:\\users\\troya\\appdata\\local\\programs\\python\\python313\\lib\\site-packages (3.2.9)\n",
      "Requirement already satisfied: numpy>=1.26.0 in c:\\users\\troya\\appdata\\local\\programs\\python\\python313\\lib\\site-packages (from pandas) (2.2.6)\n",
      "Requirement already satisfied: python-dateutil>=2.8.2 in c:\\users\\troya\\appdata\\roaming\\python\\python313\\site-packages (from pandas) (2.9.0.post0)\n",
      "Requirement already satisfied: pytz>=2020.1 in c:\\users\\troya\\appdata\\local\\programs\\python\\python313\\lib\\site-packages (from pandas) (2025.2)\n",
      "Requirement already satisfied: tzdata>=2022.7 in c:\\users\\troya\\appdata\\local\\programs\\python\\python313\\lib\\site-packages (from pandas) (2025.2)\n",
      "Requirement already satisfied: et-xmlfile in c:\\users\\troya\\appdata\\local\\programs\\python\\python313\\lib\\site-packages (from openpyxl) (2.0.0)\n",
      "Requirement already satisfied: six>=1.5 in c:\\users\\troya\\appdata\\roaming\\python\\python313\\site-packages (from python-dateutil>=2.8.2->pandas) (1.17.0)\n",
      "Note: you may need to restart the kernel to use updated packages.\n"
     ]
    },
    {
     "name": "stderr",
     "output_type": "stream",
     "text": [
      "\n",
      "[notice] A new release of pip is available: 25.0.1 -> 25.3\n",
      "[notice] To update, run: python.exe -m pip install --upgrade pip\n"
     ]
    }
   ],
   "source": [
    "pip install pandas openpyxl xlsxwriter"
   ]
  },
  {
   "cell_type": "markdown",
   "id": "8df64d0b",
   "metadata": {},
   "source": [
    "### Unión bases"
   ]
  },
  {
   "cell_type": "markdown",
   "id": "c2152c88",
   "metadata": {},
   "source": [
    "#### Importamos las librerías"
   ]
  },
  {
   "cell_type": "code",
   "execution_count": 3,
   "id": "0149fa7c",
   "metadata": {},
   "outputs": [],
   "source": [
    "import pandas as pd"
   ]
  },
  {
   "cell_type": "markdown",
   "id": "659d2458",
   "metadata": {},
   "source": [
    "#### Cargamos los csv"
   ]
  },
  {
   "cell_type": "code",
   "execution_count": 6,
   "id": "f415b87f",
   "metadata": {},
   "outputs": [],
   "source": [
    "superstore = pd.read_csv(\"../data/raw/SuperStoreOrders.csv\")\n",
    "world = pd.read_csv(\"../data/raw/world-cities.csv\")"
   ]
  },
  {
   "cell_type": "markdown",
   "id": "b48dd474",
   "metadata": {},
   "source": [
    "#### Vemos las primeras filas de cada base de datos para saber con que datos vamos a trabajar"
   ]
  },
  {
   "cell_type": "code",
   "execution_count": 8,
   "id": "ce9df3df",
   "metadata": {},
   "outputs": [
    {
     "name": "stdout",
     "output_type": "stream",
     "text": [
      "SuperStore:\n",
      "          order_id order_date ship_date       ship_mode    customer_name  \\\n",
      "0     AG-2011-2040   1/1/2011  6/1/2011  Standard Class  Toby Braunhardt   \n",
      "1    IN-2011-47883   1/1/2011  8/1/2011  Standard Class      Joseph Holt   \n",
      "2     HU-2011-1220   1/1/2011  5/1/2011    Second Class    Annie Thurman   \n",
      "3  IT-2011-3647632   1/1/2011  5/1/2011    Second Class     Eugene Moren   \n",
      "4    IN-2011-47883   1/1/2011  8/1/2011  Standard Class      Joseph Holt   \n",
      "\n",
      "       segment            state    country  market   region  ...  \\\n",
      "0     Consumer      Constantine    Algeria  Africa   Africa  ...   \n",
      "1     Consumer  New South Wales  Australia    APAC  Oceania  ...   \n",
      "2     Consumer         Budapest    Hungary    EMEA     EMEA  ...   \n",
      "3  Home Office        Stockholm     Sweden      EU    North  ...   \n",
      "4     Consumer  New South Wales  Australia    APAC  Oceania  ...   \n",
      "\n",
      "          category sub_category                 product_name sales quantity  \\\n",
      "0  Office Supplies      Storage          Tenex Lockers, Blue   408        2   \n",
      "1  Office Supplies     Supplies     Acme Trimmer, High Speed   120        3   \n",
      "2  Office Supplies      Storage      Tenex Box, Single Width    66        4   \n",
      "3  Office Supplies        Paper  Enermax Note Cards, Premium    45        3   \n",
      "4        Furniture  Furnishings   Eldon Light Bulb, Duo Pack   114        5   \n",
      "\n",
      "   discount   profit  shipping_cost  order_priority  year  \n",
      "0       0.0  106.140          35.46          Medium  2011  \n",
      "1       0.1   36.036           9.72          Medium  2011  \n",
      "2       0.0   29.640           8.17            High  2011  \n",
      "3       0.5  -26.055           4.82            High  2011  \n",
      "4       0.1   37.770           4.70          Medium  2011  \n",
      "\n",
      "[5 rows x 21 columns]\n"
     ]
    }
   ],
   "source": [
    "print(\"SuperStore:\")\n",
    "print(superstore.head())"
   ]
  },
  {
   "cell_type": "code",
   "execution_count": 9,
   "id": "b0c0455b",
   "metadata": {},
   "outputs": [
    {
     "name": "stdout",
     "output_type": "stream",
     "text": [
      "\n",
      "World Cities:\n",
      "        city city_ascii      lat       lng    country iso2 iso3   admin_name  \\\n",
      "0      Tokyo      Tokyo  35.6870  139.7495      Japan   JP  JPN        Tōkyō   \n",
      "1    Jakarta    Jakarta  -6.1750  106.8275  Indonesia   ID  IDN      Jakarta   \n",
      "2      Delhi      Delhi  28.6100   77.2300      India   IN  IND        Delhi   \n",
      "3  Guangzhou  Guangzhou  23.1300  113.2600      China   CN  CHN    Guangdong   \n",
      "4     Mumbai     Mumbai  19.0761   72.8775      India   IN  IND  Mahārāshtra   \n",
      "\n",
      "   capital  population          id  \n",
      "0  primary  37785000.0  1392685764  \n",
      "1  primary  33756000.0  1360771077  \n",
      "2    admin  32226000.0  1356872604  \n",
      "3    admin  26940000.0  1156237133  \n",
      "4    admin  24973000.0  1356226629  \n"
     ]
    }
   ],
   "source": [
    "print(\"\\nWorld Cities:\")\n",
    "print(world.head())"
   ]
  },
  {
   "cell_type": "markdown",
   "id": "6f402736",
   "metadata": {},
   "source": [
    "#### Limpiamos los nombres de país y estado para que coincidan al unirlos"
   ]
  },
  {
   "cell_type": "code",
   "execution_count": 10,
   "id": "b891ef94",
   "metadata": {},
   "outputs": [],
   "source": [
    "def limpiar_texto(columna):\n",
    "    return (columna\n",
    "            .astype(str)\n",
    "            .str.strip()\n",
    "            .str.lower()\n",
    "            .str.normalize(\"NFKD\")  # también quitamos tildes\n",
    "            .str.encode(\"ascii\", errors=\"ignore\")\n",
    "            .str.decode(\"utf-8\")\n",
    "           )\n",
    "\n",
    "superstore[\"country\"] = limpiar_texto(superstore[\"country\"])\n",
    "superstore[\"state\"] = limpiar_texto(superstore[\"state\"])\n",
    "world[\"country\"] = limpiar_texto(world[\"country\"])\n",
    "world[\"admin_name\"] = limpiar_texto(world[\"admin_name\"])"
   ]
  },
  {
   "cell_type": "markdown",
   "id": "f9852646",
   "metadata": {},
   "source": [
    "#### Preparamos una tabla de referencia con datos de world-cities. Agrupamos por país y estado, y calculamos:\n",
    "- la latitud media\n",
    "- la longitud media\n",
    "- la población total"
   ]
  },
  {
   "cell_type": "code",
   "execution_count": 11,
   "id": "3ad1b693",
   "metadata": {},
   "outputs": [],
   "source": [
    "geo_ref = (world.groupby([\"country\", \"admin_name\"])\n",
    "           .agg(latitud=(\"lat\", \"mean\"),\n",
    "                longitud=(\"lng\", \"mean\"),\n",
    "                poblacion=(\"population\", \"sum\"))\n",
    "           .reset_index())"
   ]
  },
  {
   "cell_type": "markdown",
   "id": "a5833a77",
   "metadata": {},
   "source": [
    "#### Unimos las tablas. Para ello usamos letf join manteniendo todas las filas de SuperStore y añadimos la información de world-cities si coincide el país y estado."
   ]
  },
  {
   "cell_type": "code",
   "execution_count": 12,
   "id": "e9868957",
   "metadata": {},
   "outputs": [],
   "source": [
    "unido = superstore.merge(geo_ref,\n",
    "                         left_on=[\"country\", \"state\"],\n",
    "                         right_on=[\"country\", \"admin_name\"],\n",
    "                         how=\"left\")"
   ]
  },
  {
   "cell_type": "markdown",
   "id": "e3112bca",
   "metadata": {},
   "source": [
    "#### Si algún estado no coincide, usa la media del país como respaldo"
   ]
  },
  {
   "cell_type": "code",
   "execution_count": 13,
   "id": "41631286",
   "metadata": {},
   "outputs": [],
   "source": [
    "faltan = unido[\"latitud\"].isna()\n",
    "if faltan.any():\n",
    "    pais_ref = (world.groupby(\"country\")\n",
    "                .agg(latitud_pais=(\"lat\", \"mean\"),\n",
    "                     longitud_pais=(\"lng\", \"mean\"),\n",
    "                     poblacion_pais=(\"population\", \"sum\"))\n",
    "                .reset_index())\n",
    "    unido = unido.merge(pais_ref, on=\"country\", how=\"left\")\n",
    "    # Rellenamos las que faltaban con el promedio del país\n",
    "    unido[\"latitud\"] = unido[\"latitud\"].fillna(unido[\"latitud_pais\"])\n",
    "    unido[\"longitud\"] = unido[\"longitud\"].fillna(unido[\"longitud_pais\"])\n",
    "    unido[\"poblacion\"] = unido[\"poblacion\"].fillna(unido[\"poblacion_pais\"])"
   ]
  },
  {
   "cell_type": "markdown",
   "id": "cadae6fc",
   "metadata": {},
   "source": [
    "#### Guardamos el resultado en un nuevo CSV"
   ]
  },
  {
   "cell_type": "code",
   "execution_count": 14,
   "id": "65c8b165",
   "metadata": {},
   "outputs": [
    {
     "name": "stdout",
     "output_type": "stream",
     "text": [
      "Unión completa. Archivo guardado como 'basededatos_unida.csv'\n"
     ]
    }
   ],
   "source": [
    "unido.to_csv(\"../data/raw/basededatos_unida.csv\", index=False)\n",
    "print(\"Unión completa. Archivo guardado como 'basededatos_unida.csv'\")"
   ]
  }
 ],
 "metadata": {
  "kernelspec": {
   "display_name": "Python 3",
   "language": "python",
   "name": "python3"
  },
  "language_info": {
   "codemirror_mode": {
    "name": "ipython",
    "version": 3
   },
   "file_extension": ".py",
   "mimetype": "text/x-python",
   "name": "python",
   "nbconvert_exporter": "python",
   "pygments_lexer": "ipython3",
   "version": "3.13.3"
  }
 },
 "nbformat": 4,
 "nbformat_minor": 5
}
